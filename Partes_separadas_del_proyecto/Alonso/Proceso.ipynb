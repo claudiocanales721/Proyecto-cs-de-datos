{
 "cells": [
  {
   "cell_type": "markdown",
   "id": "add0b81c",
   "metadata": {},
   "source": [
    "# **Datos de Game Spot**\n",
    "***"
   ]
  },
  {
   "cell_type": "markdown",
   "id": "b1b8f741",
   "metadata": {},
   "source": [
    "## Librerias a ocupar\n",
    "***"
   ]
  },
  {
   "cell_type": "code",
   "execution_count": 1,
   "id": "cea1e3bb",
   "metadata": {},
   "outputs": [],
   "source": [
    "#Interactuar con el API\n",
    "import requests\n",
    "import json\n",
    "from time import sleep\n",
    "\n",
    "#procesamiento de datos\n",
    "import numpy as np\n",
    "import pandas as pd\n",
    "\n"
   ]
  },
  {
   "cell_type": "markdown",
   "id": "7b033a8c",
   "metadata": {},
   "source": [
    "## Datos obtenidos con la API de Game Spot\n",
    "***"
   ]
  },
  {
   "cell_type": "markdown",
   "id": "0a32cbb2",
   "metadata": {},
   "source": [
    "### Informacion y requisitos de la API\n",
    "***"
   ]
  },
  {
   "cell_type": "markdown",
   "id": "6a697146",
   "metadata": {},
   "source": [
    "El API de Game Stop es de uso publico con la conción de no ocuparse con fines licrativos ni para competor con este.\n",
    "\n",
    "Para poder ocuparla es necesarion crearse una cuenta en su sitio web, después dirigirse a la dirección del API, aceptar los terminos y condiciones y por ultimo crear tu Key para acceder al API.\n",
    "\n",
    "A travez de esta uno puede acceder a distintos datos (Juegos, Entregas, Articulos, etcetera), en este caso nosotroa nos centraremos en las reseñas:\n",
    "\n",
    "El URL del API para reseñas:  http://www.gamespot.com/api/reviews/?api_key=[Key personal]\n",
    "\n",
    "\n"
   ]
  },
  {
   "cell_type": "markdown",
   "id": "a5b9d18b",
   "metadata": {},
   "source": [
    "### Interacción con la API\n",
    "***"
   ]
  },
  {
   "cell_type": "markdown",
   "id": "f4c9e375",
   "metadata": {},
   "source": [
    "Primero veremos la función que implementará el *request()*"
   ]
  },
  {
   "cell_type": "code",
   "execution_count": null,
   "id": "bf818024",
   "metadata": {},
   "outputs": [],
   "source": [
    "def gamespotapi (llave: str, sesion: requests.session, offset: int):\n",
    "\n",
    "    url='http://www.gamespot.com/api/reviews/?'\n",
    "\n",
    "    parametros = {\n",
    "        'api_key': llave,\n",
    "        'format': 'json',       #Si no se especifica el request devuelde un HTML\n",
    "        'offset': f'{offset}'   #Para poder hacer multiples requests\n",
    "    }\n",
    "\n",
    "    for _ in range(10):\n",
    "        try:\n",
    "            respuesta = sesion.get(f'{url}', headers= sesion.headers, params=parametros)\n",
    "            respuesta.raise_for_status()\n",
    "            return respuesta.json()\n",
    "        \n",
    "        except requests.exceptions.HTTPError as e:\n",
    "            print(\"HTTPError:\", e)\n",
    "            sleep(6)\n",
    "\n",
    "        except requests.exceptions.RequestException as e:\n",
    "            print(\"Error de red:\", e)            # Este fue el error más comun\n",
    "            sleep(6)\n"
   ]
  },
  {
   "cell_type": "markdown",
   "id": "15afa314",
   "metadata": {},
   "source": [
    "Por otra parte está el codigo principal que se encarga de hacer los multiples requests y descargas:"
   ]
  },
  {
   "cell_type": "code",
   "execution_count": null,
   "id": "1a9da81b",
   "metadata": {},
   "outputs": [],
   "source": [
    "doc=\"Partes_separadas_del_proyecto/Alonso/llave.txt\" # Aquí tengo guardada mi Key\n",
    "\n",
    "with open('data/gamespot_reseñas.json', mode=\"r\", encoding=\"utf-8\") as lista: #se obtiene la llave\n",
    "    llave = lista.readline().rstrip()\n",
    "\n",
    "try:                                                 #Se intenta crear el documentosi no está\n",
    "    documento=open(doc, mode=\"x\", encoding=\"utf-8\")\n",
    "    documento.close()\n",
    "except FileExistsError:\n",
    "    print(\"Ya está creado en documento\")\n",
    "\n",
    "sesion= requests.session()\n",
    "\n",
    "sesion.headers.update({'User-Agent': 'PUC Student proyect: https://github.com/claudiocanales721/Proyecto-cs-de-datos (aaqueveque@estudante.uc.cl)'})\n",
    "\n",
    "#La documetación especificó que User-Agents comunes no serían haceptados\n",
    "# así que preferí entregar la mayor cantidar de informacion sobre el request\n",
    "\n",
    "offset=15800     #Esta es la variable que define que parte de los request tomar, va de 100 en 100\n",
    "no_ultimo=True   #Para terminar el priceso cuando se halla legado al final\n",
    "contador=159     #Me sirve para ver cuantos request llevo\n",
    "while no_ultimo:\n",
    "\n",
    "    respuesta=gamespotapi(llave,sesion,offset) #Se ocupa la funcion definida\n",
    "    juegos=respuesta['results']                #esta es la información que nos interesa de la respuesta\n",
    "\n",
    "    if len(juegos) < 100:             #Para terminar el priceso cuando se halla legado al final\n",
    "        no_ultimo=False\n",
    "\n",
    "    with open('data/gamespot_reseñas.json', 'a', encoding='utf-8') as f: #se crea o escribe en el documeto\n",
    "        json.dump(juegos, f, indent=4)                                   #por cada descarga\n",
    "    \n",
    "    offset+=100       #Se actualiza el offset para no repetir descargas\n",
    "    print(f'Se guardó el request N°{contador}, con {len(juegos)} juegos, en total hay {offset} juegos')\n",
    "    contador+=1       #Para tener el feedback que todo va bien"
   ]
  },
  {
   "cell_type": "markdown",
   "id": "11e8bacb",
   "metadata": {},
   "source": [
    "### Formato de las respuestas\n",
    "***"
   ]
  },
  {
   "cell_type": "markdown",
   "id": "bd96d2c9",
   "metadata": {},
   "source": [
    "{\n",
    "    \"publish_date\": str almacena la fecha con la hora de la publicacion de la reseña\n",
    "    \"update_date\": str almacena la fecha con la hora de la ultima modificacion\n",
    "    \"review_type\": str que puede tener \"primary\", \"secondary\" o \"second take\"\n",
    "    \"id\": int que representa el id de la reseña\n",
    "    \"authors\": str con el nombre del autor de la reseña\n",
    "    \"title\": str con el titulo de la reseña, nomalemte es \"[Nombre del Juego] Review\"\n",
    "    \"image\": diccionario que entrega imagenes en url, ocupa las siguentes keys:\n",
    "            \"square_tiny\", \"screen_tiny\", \"square_small\", \"original\"\n",
    "\n",
    "    \"score\": str con un numero del 1 al 10 que puede tener decimales\n",
    "    \"deck\": str resumen de la reseña\n",
    "    \"good\": str lo bueno del juego\n",
    "    \"bad\": str lo malo del juego\n",
    "    \"body\": str el cuerpo de la reseña\n",
    "    \"lede\": str encabesado de la reseña\n",
    "    \"game\": diccionario que tiene:\n",
    "        \"id\": int con el id del juego\n",
    "        \"name\": dombre del juego\n",
    "        \"api_detail_url\": str con el url del API del juego\n",
    "        \"site_detail_url\": str con el url del juego\n",
    "    ,\n",
    "    \"releases\": Lista de diccionarios con la informacion de la entrega\n",
    "                en distintas partes del mundo:\n",
    "        \n",
    "            \"upc\": str codigo universal del producto\n",
    "            \"distribution_type\": str con el tipo de distribucion\n",
    "            \"id\": int con el id del realease de esa zona\n",
    "            \"name\": str con el nombre del juego\n",
    "            \"region\": Zona del mundo que se lanza el juego\n",
    "            \"platform\": str con la plataforma en la que se juega el juego\n",
    "            \"api_detail_url\": str con el url del \"release\"\n",
    "        ,\n",
    "    \n",
    "    \"site_detail_url\": str del url de la reseña del juego\n",
    "}"
   ]
  }
 ],
 "metadata": {
  "kernelspec": {
   "display_name": "Python 3",
   "language": "python",
   "name": "python3"
  },
  "language_info": {
   "codemirror_mode": {
    "name": "ipython",
    "version": 3
   },
   "file_extension": ".py",
   "mimetype": "text/x-python",
   "name": "python",
   "nbconvert_exporter": "python",
   "pygments_lexer": "ipython3",
   "version": "3.12.0"
  }
 },
 "nbformat": 4,
 "nbformat_minor": 5
}
