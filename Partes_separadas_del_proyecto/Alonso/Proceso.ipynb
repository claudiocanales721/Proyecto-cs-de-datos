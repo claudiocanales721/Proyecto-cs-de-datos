{
 "cells": [
  {
   "cell_type": "markdown",
   "id": "add0b81c",
   "metadata": {},
   "source": [
    "# **Datos de Game Spot**\n",
    "***"
   ]
  },
  {
   "cell_type": "markdown",
   "id": "a0cfb391",
   "metadata": {},
   "source": [
    "**IMPORTANTE: NO HACER CORRER LOS CODIGOS. varios procesos se fueron haciendo en el camino, y no están terminados como para que se repliquen,\n",
    "los que se muestra aquí es una versión amigable de entender lo que se ha podido hacer.**"
   ]
  },
  {
   "cell_type": "markdown",
   "id": "b1b8f741",
   "metadata": {},
   "source": [
    "## Librerias a ocupar\n",
    "***"
   ]
  },
  {
   "cell_type": "code",
   "execution_count": 30,
   "id": "cea1e3bb",
   "metadata": {},
   "outputs": [],
   "source": [
    "#Interactuar con el API\n",
    "import requests\n",
    "import json\n",
    "from time import sleep\n",
    "\n",
    "#procesamiento de datos\n",
    "import numpy as np\n",
    "import pandas as pd\n",
    "import builtins\n",
    "import os\n",
    "import re\n",
    "\n",
    "#Visualización de datos\n",
    "import seaborn as sns\n",
    "import matplotlib.pyplot as plt\n",
    "import pyarrow.parquet as pq\n",
    "\n"
   ]
  },
  {
   "cell_type": "markdown",
   "id": "7b033a8c",
   "metadata": {},
   "source": [
    "## Datos obtenidos con la API de Game Spot\n",
    "***"
   ]
  },
  {
   "cell_type": "markdown",
   "id": "0a32cbb2",
   "metadata": {},
   "source": [
    "### Informacion y requisitos de la API\n",
    "***"
   ]
  },
  {
   "cell_type": "markdown",
   "id": "6a697146",
   "metadata": {},
   "source": [
    "El API de Game Stop es de uso publico con la conción de no ocuparse con fines licrativos ni para competor con este.\n",
    "\n",
    "Para poder ocuparla es necesarion crearse una cuenta en su sitio web, después dirigirse a la dirección del API, aceptar los terminos y condiciones y por ultimo crear tu Key para acceder al API.\n",
    "\n",
    "A travez de esta uno puede acceder a distintos datos (Juegos, Entregas, Articulos, etcetera), en este caso nosotroa nos centraremos en las reseñas:\n",
    "\n",
    "El URL del API para reseñas:  http://www.gamespot.com/api/reviews/?api_key=[Key personal]\n",
    "\n",
    "\n"
   ]
  },
  {
   "cell_type": "markdown",
   "id": "a5b9d18b",
   "metadata": {},
   "source": [
    "### Interacción con la API\n",
    "***"
   ]
  },
  {
   "cell_type": "markdown",
   "id": "f4c9e375",
   "metadata": {},
   "source": [
    "Primero veremos la función que implementará el *request()*"
   ]
  },
  {
   "cell_type": "code",
   "execution_count": 4,
   "id": "bf818024",
   "metadata": {},
   "outputs": [],
   "source": [
    "def gamespotapi (llave: str, sesion: requests.session, offset: int):\n",
    "\n",
    "    url='http://www.gamespot.com/api/reviews/?'\n",
    "\n",
    "    parametros = {\n",
    "        'api_key': llave,\n",
    "        'format': 'json',       #Si no se especifica el request devuelde un HTML\n",
    "        'offset': f'{offset}'   #Para poder hacer multiples requests\n",
    "    }\n",
    "\n",
    "    for _ in range(10):\n",
    "        try:\n",
    "            respuesta = sesion.get(f'{url}', headers= sesion.headers, params=parametros)\n",
    "            respuesta.raise_for_status()\n",
    "            return respuesta.json()\n",
    "        \n",
    "        except requests.exceptions.HTTPError as e:\n",
    "            print(\"HTTPError:\", e)\n",
    "            sleep(6)\n",
    "\n",
    "        except requests.exceptions.RequestException as e:\n",
    "            print(\"Error de red:\", e)            # Este fue el error más comun\n",
    "            sleep(6)\n"
   ]
  },
  {
   "cell_type": "markdown",
   "id": "255b6e0f",
   "metadata": {},
   "source": [
    "Luego la funcion que limpia los datos y los guarda en un csv"
   ]
  },
  {
   "cell_type": "code",
   "execution_count": null,
   "id": "8d0a3b6e",
   "metadata": {},
   "outputs": [],
   "source": [
    "def diccionarios_a_csv(documento, lista, primero=False):\n",
    "\n",
    "    if isinstance(lista, str):   #se asegura que no sea string\n",
    "        lista = json.loads(lista)\n",
    "\n",
    "    df=pd.json_normalize(lista, sep='_')  #como el nombre está indentado se debe normalizar\n",
    "    df=df[['game_name','score','publish_date','game_id']]          #unicos datos rescatables\n",
    "    df = df.reset_index(drop=True)        #se quita el index\n",
    "    \n",
    "    modo = 'w' if primero else 'a'        #por si se crea o se agrega\n",
    "    escribir_header = primero             #por si es el primero\n",
    "\n",
    "    df.to_csv(documento, mode=modo, header=escribir_header, index=False) #guarda la información"
   ]
  },
  {
   "cell_type": "markdown",
   "id": "15afa314",
   "metadata": {},
   "source": [
    "Por otra parte está el codigo principal que se encarga de hacer los multiples requests y descargas:"
   ]
  },
  {
   "cell_type": "code",
   "execution_count": 6,
   "id": "1a9da81b",
   "metadata": {},
   "outputs": [
    {
     "ename": "FileNotFoundError",
     "evalue": "[Errno 2] No such file or directory: 'data/gamespot_reseñas.json'",
     "output_type": "error",
     "traceback": [
      "\u001b[31m---------------------------------------------------------------------------\u001b[39m",
      "\u001b[31mFileNotFoundError\u001b[39m                         Traceback (most recent call last)",
      "\u001b[36mCell\u001b[39m\u001b[36m \u001b[39m\u001b[32mIn[6]\u001b[39m\u001b[32m, line 3\u001b[39m\n\u001b[32m      1\u001b[39m doc=\u001b[33m\"\u001b[39m\u001b[33mPartes_separadas_del_proyecto/Alonso/llave.txt\u001b[39m\u001b[33m\"\u001b[39m \u001b[38;5;66;03m# Aquí tengo guardada mi Key\u001b[39;00m\n\u001b[32m----> \u001b[39m\u001b[32m3\u001b[39m \u001b[38;5;28;01mwith\u001b[39;00m \u001b[38;5;28;43mopen\u001b[39;49m\u001b[43m(\u001b[49m\u001b[33;43m'\u001b[39;49m\u001b[33;43mdata/gamespot_reseñas.json\u001b[39;49m\u001b[33;43m'\u001b[39;49m\u001b[43m,\u001b[49m\u001b[43m \u001b[49m\u001b[43mmode\u001b[49m\u001b[43m=\u001b[49m\u001b[33;43m\"\u001b[39;49m\u001b[33;43mr\u001b[39;49m\u001b[33;43m\"\u001b[39;49m\u001b[43m,\u001b[49m\u001b[43m \u001b[49m\u001b[43mencoding\u001b[49m\u001b[43m=\u001b[49m\u001b[33;43m\"\u001b[39;49m\u001b[33;43mutf-8\u001b[39;49m\u001b[33;43m\"\u001b[39;49m\u001b[43m)\u001b[49m \u001b[38;5;28;01mas\u001b[39;00m lista: \u001b[38;5;66;03m#se obtiene la llave\u001b[39;00m\n\u001b[32m      4\u001b[39m     llave = lista.readline().rstrip()\n\u001b[32m      6\u001b[39m \u001b[38;5;28;01mtry\u001b[39;00m:                                                 \u001b[38;5;66;03m#Se intenta crear el documentosi no está\u001b[39;00m\n",
      "\u001b[36mFile \u001b[39m\u001b[32m~\\AppData\\Roaming\\Python\\Python312\\site-packages\\IPython\\core\\interactiveshell.py:343\u001b[39m, in \u001b[36m_modified_open\u001b[39m\u001b[34m(file, *args, **kwargs)\u001b[39m\n\u001b[32m    336\u001b[39m \u001b[38;5;28;01mif\u001b[39;00m file \u001b[38;5;129;01min\u001b[39;00m {\u001b[32m0\u001b[39m, \u001b[32m1\u001b[39m, \u001b[32m2\u001b[39m}:\n\u001b[32m    337\u001b[39m     \u001b[38;5;28;01mraise\u001b[39;00m \u001b[38;5;167;01mValueError\u001b[39;00m(\n\u001b[32m    338\u001b[39m         \u001b[33mf\u001b[39m\u001b[33m\"\u001b[39m\u001b[33mIPython won\u001b[39m\u001b[33m'\u001b[39m\u001b[33mt let you open fd=\u001b[39m\u001b[38;5;132;01m{\u001b[39;00mfile\u001b[38;5;132;01m}\u001b[39;00m\u001b[33m by default \u001b[39m\u001b[33m\"\u001b[39m\n\u001b[32m    339\u001b[39m         \u001b[33m\"\u001b[39m\u001b[33mas it is likely to crash IPython. If you know what you are doing, \u001b[39m\u001b[33m\"\u001b[39m\n\u001b[32m    340\u001b[39m         \u001b[33m\"\u001b[39m\u001b[33myou can use builtins\u001b[39m\u001b[33m'\u001b[39m\u001b[33m open.\u001b[39m\u001b[33m\"\u001b[39m\n\u001b[32m    341\u001b[39m     )\n\u001b[32m--> \u001b[39m\u001b[32m343\u001b[39m \u001b[38;5;28;01mreturn\u001b[39;00m \u001b[43mio_open\u001b[49m\u001b[43m(\u001b[49m\u001b[43mfile\u001b[49m\u001b[43m,\u001b[49m\u001b[43m \u001b[49m\u001b[43m*\u001b[49m\u001b[43margs\u001b[49m\u001b[43m,\u001b[49m\u001b[43m \u001b[49m\u001b[43m*\u001b[49m\u001b[43m*\u001b[49m\u001b[43mkwargs\u001b[49m\u001b[43m)\u001b[49m\n",
      "\u001b[31mFileNotFoundError\u001b[39m: [Errno 2] No such file or directory: 'data/gamespot_reseñas.json'"
     ]
    }
   ],
   "source": [
    "doc=\"Partes_separadas_del_proyecto/Alonso/llave.txt\" # Aquí tengo guardada mi Key\n",
    "\n",
    "with open(doc , mode=\"r\", encoding=\"utf-8\") as lista: #se obtiene la llave\n",
    "    llave = lista.readline().rstrip()\n",
    "\n",
    "\n",
    "sesion= requests.session()  #se crea la sesion para optimizar los request\n",
    "sesion.headers.update({'User-Agent': 'PUC Student proyect: https://github.com/claudiocanales721/Proyecto-cs-de-datos (aaqueveque@estudante.uc.cl)'})\n",
    "\n",
    "#La documetación especificó que User-Agents comunes no serían haceptados\n",
    "# así que preferí entregar la mayor cantidar de informacion sobre el request\n",
    "\n",
    "offset=0    #Esta es la variable que define que parte de los request tomar, va de 100 en 100\n",
    "no_ultimo=True   #Para terminar el priceso cuando se halla legado al final\n",
    "contontador=1    #Me sirve para ver cuantos request llevo\n",
    "primero=True\n",
    "while no_ultimo:\n",
    "\n",
    "    respuesta=gamespotapi(llave,sesion,offset) #Se ocupa la funcion definida\n",
    "    juegos=respuesta['results']                #esta es la información que nos interesa de la respuesta\n",
    "\n",
    "    if len(juegos) < 100:             #Para terminar el priceso cuando se halla legado al final\n",
    "        no_ultimo=False\n",
    "\n",
    "    diccionarios_a_csv('data/gamespot.csv', juegos, primero) #se usa la función para\n",
    "                                                            #agregar elementos al documento\n",
    "    \n",
    "    offset+=100       #Se actualiza el offset para no repetir descargas\n",
    "    print(f'Se guardó el request N°{contador}, con {len(juegos)} juegos, en total hay {offset} juegos')\n",
    "    contador+=1       #Para tener el feedback que todo va bien"
   ]
  },
  {
   "cell_type": "markdown",
   "id": "11e8bacb",
   "metadata": {},
   "source": [
    "### Formato de las respuestas\n",
    "***"
   ]
  },
  {
   "cell_type": "markdown",
   "id": "bd96d2c9",
   "metadata": {},
   "source": [
    "{\n",
    "    \n",
    "    \"publish_date\": str almacena la fecha con la hora de la publicacion de la reseña\n",
    "    \"update_date\": str almacena la fecha con la hora de la ultima modificacion\n",
    "    \"review_type\": str que puede tener \"primary\", \"secondary\" o \"second take\"\n",
    "    \"id\": int que representa el id de la reseña\n",
    "    \"authors\": str con el nombre del autor de la reseña\n",
    "    \"title\": str con el titulo de la reseña, nomalemte es \"[Nombre del Juego] Review\"\n",
    "    \"image\": diccionario que entrega imagenes en url, ocupa las siguentes keys:\n",
    "            \"square_tiny\", \"screen_tiny\", \"square_small\", \"original\"\n",
    "\n",
    "    \"score\": str con un numero del 1 al 10 que puede tener decimales\n",
    "    \"deck\": str resumen de la reseña\n",
    "    \"good\": str lo bueno del juego\n",
    "    \"bad\": str lo malo del juego\n",
    "    \"body\": str el cuerpo de la reseña\n",
    "    \"lede\": str encabesado de la reseña\n",
    "    \"game\": diccionario que tiene:\n",
    "        \"id\": int con el id del juego\n",
    "        \"name\": nombre del juego\n",
    "        \"api_detail_url\": str con el url del API del juego\n",
    "        \"site_detail_url\": str con el url del juego\n",
    "    ,\n",
    "    \"releases\": Lista de diccionarios con la informacion de la entrega\n",
    "                en distintas partes del mundo:\n",
    "        \n",
    "            \"upc\": str codigo universal del producto\n",
    "            \"distribution_type\": str con el tipo de distribucion\n",
    "            \"id\": int con el id del realease de esa zona\n",
    "            \"name\": str con el nombre del juego\n",
    "            \"region\": Zona del mundo que se lanza el juego\n",
    "            \"platform\": str con la plataforma en la que se juega el juego\n",
    "            \"api_detail_url\": str con el url del \"release\"\n",
    "        ,\n",
    "    \n",
    "    \"site_detail_url\": str del url de la reseña del juego\n",
    "}"
   ]
  },
  {
   "cell_type": "code",
   "execution_count": 16,
   "id": "c667f6f5",
   "metadata": {},
   "outputs": [
    {
     "data": {
      "text/html": [
       "<div>\n",
       "<style scoped>\n",
       "    .dataframe tbody tr th:only-of-type {\n",
       "        vertical-align: middle;\n",
       "    }\n",
       "\n",
       "    .dataframe tbody tr th {\n",
       "        vertical-align: top;\n",
       "    }\n",
       "\n",
       "    .dataframe thead th {\n",
       "        text-align: right;\n",
       "    }\n",
       "</style>\n",
       "<table border=\"1\" class=\"dataframe\">\n",
       "  <thead>\n",
       "    <tr style=\"text-align: right;\">\n",
       "      <th></th>\n",
       "      <th>nombre</th>\n",
       "      <th>nota</th>\n",
       "      <th>publicacion</th>\n",
       "      <th>id</th>\n",
       "    </tr>\n",
       "  </thead>\n",
       "  <tbody>\n",
       "    <tr>\n",
       "      <th>0</th>\n",
       "      <td>Under a Killing Moon</td>\n",
       "      <td>6.9</td>\n",
       "      <td>1996-05-01 12:00:00</td>\n",
       "      <td>2230.0</td>\n",
       "    </tr>\n",
       "    <tr>\n",
       "      <th>1</th>\n",
       "      <td>Warcraft II: Tides of Darkness</td>\n",
       "      <td>9.3</td>\n",
       "      <td>1996-05-01 12:00:00</td>\n",
       "      <td>2298.0</td>\n",
       "    </tr>\n",
       "    <tr>\n",
       "      <th>2</th>\n",
       "      <td>Warhammer: Shadow of the Horned Rat</td>\n",
       "      <td>6.8</td>\n",
       "      <td>1996-05-01 12:00:00</td>\n",
       "      <td>2304.0</td>\n",
       "    </tr>\n",
       "    <tr>\n",
       "      <th>3</th>\n",
       "      <td>Whiplash (1996)</td>\n",
       "      <td>6.1</td>\n",
       "      <td>1996-05-01 12:00:00</td>\n",
       "      <td>2320.0</td>\n",
       "    </tr>\n",
       "    <tr>\n",
       "      <th>4</th>\n",
       "      <td>Wing Commander IV: The Price of Freedom</td>\n",
       "      <td>8.5</td>\n",
       "      <td>1996-05-01 12:00:00</td>\n",
       "      <td>2330.0</td>\n",
       "    </tr>\n",
       "  </tbody>\n",
       "</table>\n",
       "</div>"
      ],
      "text/plain": [
       "                                    nombre  nota          publicacion      id\n",
       "0                     Under a Killing Moon   6.9  1996-05-01 12:00:00  2230.0\n",
       "1           Warcraft II: Tides of Darkness   9.3  1996-05-01 12:00:00  2298.0\n",
       "2      Warhammer: Shadow of the Horned Rat   6.8  1996-05-01 12:00:00  2304.0\n",
       "3                          Whiplash (1996)   6.1  1996-05-01 12:00:00  2320.0\n",
       "4  Wing Commander IV: The Price of Freedom   8.5  1996-05-01 12:00:00  2330.0"
      ]
     },
     "execution_count": 16,
     "metadata": {},
     "output_type": "execute_result"
    }
   ],
   "source": [
    "with open(\"data/gamespot.csv\", \"r\", encoding='utf-8') as f:\n",
    "    df = pd.read_csv(f)\n",
    "\n",
    "df.head()"
   ]
  },
  {
   "cell_type": "code",
   "execution_count": 18,
   "id": "51c4dd17",
   "metadata": {},
   "outputs": [
    {
     "name": "stdout",
     "output_type": "stream",
     "text": [
      "<class 'pandas.core.frame.DataFrame'>\n",
      "Index: 15156 entries, 0 to 15299\n",
      "Data columns (total 4 columns):\n",
      " #   Column       Non-Null Count  Dtype  \n",
      "---  ------       --------------  -----  \n",
      " 0   nombre       15156 non-null  object \n",
      " 1   nota         15156 non-null  float64\n",
      " 2   publicacion  15156 non-null  object \n",
      " 3   id           15156 non-null  float64\n",
      "dtypes: float64(2), object(2)\n",
      "memory usage: 592.0+ KB\n"
     ]
    }
   ],
   "source": [
    "\"\"\"df_limpio = df.rename(columns={'game_name': 'nombre',\n",
    "                    'score': 'nota',\n",
    "                    'publish_date': 'publicacion',\n",
    "                    'game_id': 'id'})\"\"\"\n",
    "\n",
    "\n",
    "df_limpio = df.dropna(subset=['nombre',\n",
    "                    'nota',\n",
    "                    'publicacion','id'])\n",
    "\n",
    "df_limpio.info()"
   ]
  },
  {
   "cell_type": "code",
   "execution_count": null,
   "id": "15a01fda",
   "metadata": {},
   "outputs": [
    {
     "name": "stdout",
     "output_type": "stream",
     "text": [
      "<class 'pandas.core.frame.DataFrame'>\n",
      "Index: 15156 entries, 0 to 15299\n",
      "Data columns (total 4 columns):\n",
      " #   Column       Non-Null Count  Dtype         \n",
      "---  ------       --------------  -----         \n",
      " 0   nombre       15156 non-null  object        \n",
      " 1   nota         15156 non-null  float64       \n",
      " 2   publicacion  15156 non-null  datetime64[ns]\n",
      " 3   id           15156 non-null  float64       \n",
      "dtypes: datetime64[ns](1), float64(2), object(1)\n",
      "memory usage: 592.0+ KB\n"
     ]
    },
    {
     "name": "stderr",
     "output_type": "stream",
     "text": [
      "C:\\Users\\alonso aqueveque\\AppData\\Local\\Temp\\ipykernel_8848\\3254170344.py:1: SettingWithCopyWarning: \n",
      "A value is trying to be set on a copy of a slice from a DataFrame.\n",
      "Try using .loc[row_indexer,col_indexer] = value instead\n",
      "\n",
      "See the caveats in the documentation: https://pandas.pydata.org/pandas-docs/stable/user_guide/indexing.html#returning-a-view-versus-a-copy\n",
      "  df_limpio['publicacion'] = pd.to_datetime(df_limpio['publicacion'], errors= 'coerce')\n",
      "C:\\Users\\alonso aqueveque\\AppData\\Local\\Temp\\ipykernel_8848\\3254170344.py:3: SettingWithCopyWarning: \n",
      "A value is trying to be set on a copy of a slice from a DataFrame.\n",
      "Try using .loc[row_indexer,col_indexer] = value instead\n",
      "\n",
      "See the caveats in the documentation: https://pandas.pydata.org/pandas-docs/stable/user_guide/indexing.html#returning-a-view-versus-a-copy\n",
      "  df_limpio['nota']=pd.to_numeric(df_limpio['nota'])\n",
      "C:\\Users\\alonso aqueveque\\AppData\\Local\\Temp\\ipykernel_8848\\3254170344.py:5: SettingWithCopyWarning: \n",
      "A value is trying to be set on a copy of a slice from a DataFrame.\n",
      "Try using .loc[row_indexer,col_indexer] = value instead\n",
      "\n",
      "See the caveats in the documentation: https://pandas.pydata.org/pandas-docs/stable/user_guide/indexing.html#returning-a-view-versus-a-copy\n",
      "  df_limpio['id']=pd.to_numeric(df_limpio['id'])\n"
     ]
    }
   ],
   "source": [
    "\n",
    "\n",
    "df_limpio['publicacion'] = pd.to_datetime(df_limpio['publicacion'], errors= 'coerce')\n",
    "\n",
    "df_limpio['nota']=pd.to_numeric(df_limpio['nota'])\n",
    "\n",
    "df_limpio['id']=pd.to_numeric(df_limpio['id'])\n",
    "\n",
    "df_limpio.info()"
   ]
  },
  {
   "cell_type": "code",
   "execution_count": null,
   "id": "2533acee",
   "metadata": {},
   "outputs": [
    {
     "name": "stderr",
     "output_type": "stream",
     "text": [
      "C:\\Users\\alonso aqueveque\\AppData\\Local\\Temp\\ipykernel_8848\\2281043223.py:15: SettingWithCopyWarning: \n",
      "A value is trying to be set on a copy of a slice from a DataFrame.\n",
      "Try using .loc[row_indexer,col_indexer] = value instead\n",
      "\n",
      "See the caveats in the documentation: https://pandas.pydata.org/pandas-docs/stable/user_guide/indexing.html#returning-a-view-versus-a-copy\n",
      "  df_limpio['nombre_franquicia']=df_limpio['nombre'].apply(obtener_nombre_base)\n"
     ]
    }
   ],
   "source": [
    "# Se usa la misma funcion definida para la base de datos de steam\n",
    "def obtener_nombre_base(titulo):\n",
    "    \n",
    "    if not isinstance(titulo, str):\n",
    "        return titulo\n",
    "    \n",
    "    base = re.sub(r':.*', '', titulo)\n",
    "    base = re.sub(r'\\s*\\(.*\\)', '', base)\n",
    "    base = re.sub(r'\\s*\\[.*\\]', '', base)\n",
    "    base = re.sub(r'\\s+([IVX\\d]+)$', '', base)\n",
    "    base = re.sub(r'\\s+(GOTY|Remastered|Definitive Edition)$', '', base, flags=re.IGNORECASE)\n",
    "    \n",
    "    return base.strip()\n",
    "\n",
    "df_limpio['nombre_franquicia']=df_limpio['nombre'].apply(obtener_nombre_base)\n",
    "\n",
    "Sagas = df_limpio.groupby('Nombre_Base')['id'].count()"
   ]
  },
  {
   "cell_type": "code",
   "execution_count": 23,
   "id": "325f5b79",
   "metadata": {},
   "outputs": [],
   "source": [
    "df_limpio = df_limpio.sort_values(by=['nombre_franquicia','publicacion'])\n",
    "\n",
    "df_limpio = df_limpio.groupby('nombre_franquicia').first().reset_index()"
   ]
  },
  {
   "cell_type": "code",
   "execution_count": 28,
   "id": "6c58afb1",
   "metadata": {},
   "outputs": [
    {
     "data": {
      "text/html": [
       "<div>\n",
       "<style scoped>\n",
       "    .dataframe tbody tr th:only-of-type {\n",
       "        vertical-align: middle;\n",
       "    }\n",
       "\n",
       "    .dataframe tbody tr th {\n",
       "        vertical-align: top;\n",
       "    }\n",
       "\n",
       "    .dataframe thead th {\n",
       "        text-align: right;\n",
       "    }\n",
       "</style>\n",
       "<table border=\"1\" class=\"dataframe\">\n",
       "  <thead>\n",
       "    <tr style=\"text-align: right;\">\n",
       "      <th></th>\n",
       "      <th>nombre_franquicia</th>\n",
       "      <th>nombre</th>\n",
       "      <th>nota</th>\n",
       "      <th>publicacion</th>\n",
       "      <th>id</th>\n",
       "    </tr>\n",
       "  </thead>\n",
       "  <tbody>\n",
       "    <tr>\n",
       "      <th>1162</th>\n",
       "      <td>Code Vein</td>\n",
       "      <td>Code Vein</td>\n",
       "      <td>6.0</td>\n",
       "      <td>2019-09-26 07:00:00</td>\n",
       "      <td>464088.0</td>\n",
       "    </tr>\n",
       "    <tr>\n",
       "      <th>303</th>\n",
       "      <td>Amplitude</td>\n",
       "      <td>Amplitude (2003)</td>\n",
       "      <td>8.8</td>\n",
       "      <td>2003-03-26 03:35:57</td>\n",
       "      <td>18016.0</td>\n",
       "    </tr>\n",
       "    <tr>\n",
       "      <th>1433</th>\n",
       "      <td>Dark Messiah of Might and Magic</td>\n",
       "      <td>Dark Messiah of Might and Magic</td>\n",
       "      <td>6.7</td>\n",
       "      <td>2006-10-26 07:23:51</td>\n",
       "      <td>25001.0</td>\n",
       "    </tr>\n",
       "    <tr>\n",
       "      <th>64</th>\n",
       "      <td>50 Cent</td>\n",
       "      <td>50 Cent: Bulletproof</td>\n",
       "      <td>4.8</td>\n",
       "      <td>2005-11-28 05:37:11</td>\n",
       "      <td>23514.0</td>\n",
       "    </tr>\n",
       "    <tr>\n",
       "      <th>4866</th>\n",
       "      <td>Punch King</td>\n",
       "      <td>Punch King</td>\n",
       "      <td>6.5</td>\n",
       "      <td>2002-06-27 06:19:24</td>\n",
       "      <td>4221.0</td>\n",
       "    </tr>\n",
       "  </tbody>\n",
       "</table>\n",
       "</div>"
      ],
      "text/plain": [
       "                    nombre_franquicia                           nombre  nota  \\\n",
       "1162                        Code Vein                        Code Vein   6.0   \n",
       "303                         Amplitude                 Amplitude (2003)   8.8   \n",
       "1433  Dark Messiah of Might and Magic  Dark Messiah of Might and Magic   6.7   \n",
       "64                            50 Cent             50 Cent: Bulletproof   4.8   \n",
       "4866                       Punch King                       Punch King   6.5   \n",
       "\n",
       "             publicacion        id  \n",
       "1162 2019-09-26 07:00:00  464088.0  \n",
       "303  2003-03-26 03:35:57   18016.0  \n",
       "1433 2006-10-26 07:23:51   25001.0  \n",
       "64   2005-11-28 05:37:11   23514.0  \n",
       "4866 2002-06-27 06:19:24    4221.0  "
      ]
     },
     "execution_count": 28,
     "metadata": {},
     "output_type": "execute_result"
    }
   ],
   "source": [
    "df_limpio.sample(5)"
   ]
  },
  {
   "cell_type": "code",
   "execution_count": null,
   "id": "b6923013",
   "metadata": {},
   "outputs": [],
   "source": []
  },
  {
   "cell_type": "code",
   "execution_count": 31,
   "id": "b1c13c34",
   "metadata": {},
   "outputs": [
    {
     "data": {
      "image/png": "[encoded data removed]",
      "text/plain": [
       "<Figure size 1000x600 with 1 Axes>"
      ]
     },
     "metadata": {},
     "output_type": "display_data"
    }
   ],
   "source": [
    "sns.set_theme(style=\"whitegrid\")\n",
    "\n",
    "\n",
    "plt.figure(figsize=(10, 6))\n",
    "sns.histplot(df_limpio['nota'], kde=True, bins=50)  \n",
    "\n",
    "\n",
    "plt.axvline(x=0, color='red', linestyle='--')\n",
    "\n",
    "plt.title('Distribución de la Diferencia de Reseñas Positivas (Secuela vs. Original)')\n",
    "plt.xlabel('Diferencia (Más reseñas = Secuela es mejor)')\n",
    "plt.ylabel('Cantidad de Franquicias')\n",
    "plt.show()"
   ]
  },
  {
   "cell_type": "markdown",
   "id": "3d166c70",
   "metadata": {},
   "source": [
    "# POR HACER\n",
    "***"
   ]
  },
  {
   "cell_type": "markdown",
   "id": "a665f579",
   "metadata": {},
   "source": [
    "En este proceso quedan varias cosas pendientes, se queda atras con las exploraciones de las otras bases de datos, pero tiene otros aspectos donde puede dar una nueva perspectiva.\n",
    "\n",
    "Para la proxima entrega de esta exploracion queda pendiente:\n",
    "\n",
    "-El igualar la profundidad del EDA\n",
    "-Notamos que en la base de datos hay más de una reseña por juego así que se podría elegir el sesgo, que puede ser quedarse con la nota mas nueva por que la opinion del juego cambio y envejeció mal o quedarse con la primera dado que fue la primera impresion, ya que estan los casos como cyberpunk 2077 que empezo mal pero impresión nota ha mejorado"
   ]
  }
 ],
 "metadata": {
  "kernelspec": {
   "display_name": "Python 3",
   "language": "python",
   "name": "python3"
  },
  "language_info": {
   "codemirror_mode": {
    "name": "ipython",
    "version": 3
   },
   "file_extension": ".py",
   "mimetype": "text/x-python",
   "name": "python",
   "nbconvert_exporter": "python",
   "pygments_lexer": "ipython3",
   "version": "3.12.0"
  }
 },
 "nbformat": 4,
 "nbformat_minor": 5
}
